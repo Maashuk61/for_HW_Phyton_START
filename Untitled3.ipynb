{
  "nbformat": 4,
  "nbformat_minor": 0,
  "metadata": {
    "colab": {
      "provenance": [],
      "authorship_tag": "ABX9TyPqzLJhfHHllsWpRCoE9cp5"
    },
    "kernelspec": {
      "name": "python3",
      "display_name": "Python 3"
    },
    "language_info": {
      "name": "python"
    }
  },
  "cells": [
    {
      "cell_type": "code",
      "source": [
        "import pandas as pd \n",
        "import random\n",
        " \n",
        "lst = ['robot'] * 10\n",
        "lst += ['human'] * 10\n",
        "random.shuffle(lst)\n",
        "data = pd.DataFrame({'whoAmI': lst})\n",
        "\n",
        "robot = []\n",
        "human = []\n",
        "\n",
        "for i in data['whoAmI']:\n",
        "  if i == 'robot':\n",
        "    robot.append(1)\n",
        "    human.append(0)\n",
        "  else:\n",
        "    robot.append(0)\n",
        "    human.append(1)\n",
        "\n",
        "\n",
        "data = pd.DataFrame({'whoAmI' : lst, 'robot': robot, 'human': human})\n",
        "\n",
        "print(data)"
      ],
      "metadata": {
        "colab": {
          "base_uri": "https://localhost:8080/"
        },
        "id": "9uWnJeLtyeH-",
        "outputId": "fed0e3f8-ad08-422e-813f-21af6ee79ad7"
      },
      "execution_count": 27,
      "outputs": [
        {
          "output_type": "stream",
          "name": "stdout",
          "text": [
            "   whoAmI  robot  human\n",
            "0   robot      1      0\n",
            "1   robot      1      0\n",
            "2   robot      1      0\n",
            "3   robot      1      0\n",
            "4   human      0      1\n",
            "5   human      0      1\n",
            "6   robot      1      0\n",
            "7   human      0      1\n",
            "8   human      0      1\n",
            "9   robot      1      0\n",
            "10  robot      1      0\n",
            "11  human      0      1\n",
            "12  human      0      1\n",
            "13  human      0      1\n",
            "14  human      0      1\n",
            "15  human      0      1\n",
            "16  robot      1      0\n",
            "17  human      0      1\n",
            "18  robot      1      0\n",
            "19  robot      1      0\n"
          ]
        }
      ]
    }
  ]
}