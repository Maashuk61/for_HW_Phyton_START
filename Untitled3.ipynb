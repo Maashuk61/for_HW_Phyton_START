{
  "nbformat": 4,
  "nbformat_minor": 0,
  "metadata": {
    "colab": {
      "provenance": [],
      "authorship_tag": "ABX9TyPABAISJzgOCNU7w6TdWBnI"
    },
    "kernelspec": {
      "name": "python3",
      "display_name": "Python 3"
    },
    "language_info": {
      "name": "python"
    }
  },
  "cells": [
    {
      "cell_type": "code",
      "source": [
        "import pandas as pd \n",
        "import numpy as np \n",
        "import random\n",
        " \n",
        "lst = ['robot'] * 10\n",
        "lst += ['human'] * 10\n",
        "random.shuffle(lst)\n",
        "data = pd.DataFrame({'whoAmI': lst})\n",
        "print(data)"
      ],
      "metadata": {
        "colab": {
          "base_uri": "https://localhost:8080/"
        },
        "id": "9uWnJeLtyeH-",
        "outputId": "4f846280-21a7-44e8-e555-bc163d297731"
      },
      "execution_count": 24,
      "outputs": [
        {
          "output_type": "stream",
          "name": "stdout",
          "text": [
            "   whoAmI\n",
            "0   robot\n",
            "1   robot\n",
            "2   human\n",
            "3   human\n",
            "4   robot\n",
            "5   human\n",
            "6   human\n",
            "7   human\n",
            "8   robot\n",
            "9   robot\n",
            "10  robot\n",
            "11  robot\n",
            "12  robot\n",
            "13  human\n",
            "14  robot\n",
            "15  human\n",
            "16  human\n",
            "17  human\n",
            "18  human\n",
            "19  robot\n"
          ]
        }
      ]
    },
    {
      "cell_type": "code",
      "source": [
        "data['tmp'] = 1\n",
        "data.set_index([data.index, 'whoAmI'], inplace=True)\n",
        "data = data.unstack(level=-1, fill_value = 0).astype(int)\n",
        "data.columns = data.columns.droplevel()\n",
        "data.columns.name = None\n",
        "print(data)"
      ],
      "metadata": {
        "colab": {
          "base_uri": "https://localhost:8080/"
        },
        "id": "7wqPGmFf0yoj",
        "outputId": "16148d2d-b8c5-4354-c937-a96162855054"
      },
      "execution_count": 22,
      "outputs": [
        {
          "output_type": "stream",
          "name": "stdout",
          "text": [
            "    human  robot\n",
            "0       0      1\n",
            "1       1      0\n",
            "2       1      0\n",
            "3       1      0\n",
            "4       1      0\n",
            "5       1      0\n",
            "6       1      0\n",
            "7       0      1\n",
            "8       0      1\n",
            "9       0      1\n",
            "10      0      1\n",
            "11      0      1\n",
            "12      0      1\n",
            "13      1      0\n",
            "14      0      1\n",
            "15      1      0\n",
            "16      0      1\n",
            "17      1      0\n",
            "18      0      1\n",
            "19      1      0\n"
          ]
        }
      ]
    }
  ]
}